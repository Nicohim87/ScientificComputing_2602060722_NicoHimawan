{
 "cells": [
  {
   "cell_type": "code",
   "execution_count": 8,
   "metadata": {},
   "outputs": [
    {
     "name": "stdout",
     "output_type": "stream",
     "text": [
      "1.9835235375094546\n",
      "0.01647646249054535\n"
     ]
    }
   ],
   "source": [
    "#Trapezoid Rule -> Manual\n",
    "\n",
    "import numpy as np\n",
    "\n",
    "start = 0\n",
    "end = np.pi\n",
    "num = 11\n",
    "delta = (end - start) / (num - 1)\n",
    "x = np.linspace(start, end, num)\n",
    "function = np.sin(x)\n",
    "\n",
    "I_trap = (delta/2)*(function[0] + 2 * sum(function[1:num-1]) + function[num - 1])\n",
    "eer_trap = 2 - I_trap\n",
    "\n",
    "print(f\"{I_trap}\\n{eer_trap}\")"
   ]
  }
 ],
 "metadata": {
  "kernelspec": {
   "display_name": "Python 3",
   "language": "python",
   "name": "python3"
  },
  "language_info": {
   "codemirror_mode": {
    "name": "ipython",
    "version": 3
   },
   "file_extension": ".py",
   "mimetype": "text/x-python",
   "name": "python",
   "nbconvert_exporter": "python",
   "pygments_lexer": "ipython3",
   "version": "3.10.9"
  },
  "orig_nbformat": 4
 },
 "nbformat": 4,
 "nbformat_minor": 2
}
