{
 "cells": [
  {
   "cell_type": "code",
   "execution_count": 2,
   "metadata": {},
   "outputs": [
    {
     "name": "stdout",
     "output_type": "stream",
     "text": [
      "1.9835235375094544\n",
      "1.9835235375094546\n"
     ]
    }
   ],
   "source": [
    "#Trapezoid Rule -> Using \"trapz\" from scipy\n",
    "\n",
    "import numpy as np\n",
    "from scipy.integrate import trapz\n",
    "\n",
    "\n",
    "start = 0\n",
    "end = np.pi\n",
    "num = 11\n",
    "delta = (end - start) / (num - 1)\n",
    "x = np.linspace(start, end, num)\n",
    "function = np.sin(x)\n",
    "\n",
    "I_trapz = trapz(function, x)\n",
    "I_trap = (delta/2)*(function[0] + 2 * sum(function[1:num-1]) + function[num-1])\n",
    "\n",
    "print(f\"{I_trapz}\\n{I_trap}\")"
   ]
  },
  {
   "cell_type": "code",
   "execution_count": 5,
   "metadata": {},
   "outputs": [
    {
     "name": "stdout",
     "output_type": "stream",
     "text": [
      "2.0\n",
      "2.220446049250313e-14 0.0\n"
     ]
    }
   ],
   "source": [
    "# -> Using \"quad\" from scipy\n",
    "from scipy.integrate import quad\n",
    "\n",
    "I_quad, est_err_quad = quad(np.sin, 0, np.pi)\n",
    "\n",
    "print(I_quad)\n",
    "\n",
    "err_quad = 2 - I_quad\n",
    "\n",
    "print(est_err_quad, err_quad)"
   ]
  }
 ],
 "metadata": {
  "kernelspec": {
   "display_name": "Python 3",
   "language": "python",
   "name": "python3"
  },
  "language_info": {
   "codemirror_mode": {
    "name": "ipython",
    "version": 3
   },
   "file_extension": ".py",
   "mimetype": "text/x-python",
   "name": "python",
   "nbconvert_exporter": "python",
   "pygments_lexer": "ipython3",
   "version": "3.10.9"
  },
  "orig_nbformat": 4
 },
 "nbformat": 4,
 "nbformat_minor": 2
}
