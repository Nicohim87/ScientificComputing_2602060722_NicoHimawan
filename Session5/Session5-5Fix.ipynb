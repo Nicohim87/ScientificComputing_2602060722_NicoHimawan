{
 "cells": [
  {
   "cell_type": "code",
   "execution_count": 2,
   "metadata": {},
   "outputs": [
    {
     "name": "stdout",
     "output_type": "stream",
     "text": [
      "Result = 2.0001095173150043\n",
      "Error = -0.00010951731500430384\n"
     ]
    }
   ],
   "source": [
    "#CHALLENGE -> Simpson's Rule (FIX)\n",
    "\n",
    "# Fix :\n",
    "# -> Algorithm change\n",
    "# -> delta calculation fix\n",
    "# -> Optimization using array slicing\n",
    "\n",
    "import numpy as np\n",
    "\n",
    "start = 0\n",
    "end = np.pi\n",
    "num = 11\n",
    "delta = (end - start) / (num - 1)\n",
    "\n",
    "function = np.sin(np.linspace(start, end, num))\n",
    "\n",
    "Result = 0\n",
    "init = 0\n",
    "\n",
    "if num % 2 == 0:\n",
    "    Result += delta * 3/8 * (function[0] + 3*function[1] + 3*function[2] + function[3])\n",
    "    init = 3\n",
    "\n",
    "Result += delta / 3 * (function[init] + 2*sum(function[init + 2 : -1 : 2]) + 4*sum(function[1 + init : -1 : 2]) + function[-1])\n",
    "\n",
    "Error = 2 - Result\n",
    "\n",
    "print(f\"Result = {Result}\\nError = {Error}\")"
   ]
  }
 ],
 "metadata": {
  "kernelspec": {
   "display_name": "Python 3",
   "language": "python",
   "name": "python3"
  },
  "language_info": {
   "codemirror_mode": {
    "name": "ipython",
    "version": 3
   },
   "file_extension": ".py",
   "mimetype": "text/x-python",
   "name": "python",
   "nbconvert_exporter": "python",
   "pygments_lexer": "ipython3",
   "version": "3.10.9"
  },
  "orig_nbformat": 4
 },
 "nbformat": 4,
 "nbformat_minor": 2
}
