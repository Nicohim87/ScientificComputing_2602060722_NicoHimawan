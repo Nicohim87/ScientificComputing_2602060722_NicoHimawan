{
 "cells": [
  {
   "cell_type": "code",
   "execution_count": 3,
   "metadata": {},
   "outputs": [
    {
     "name": "stdout",
     "output_type": "stream",
     "text": [
      "1.9835235375094546\n",
      "0.01647646249054535\n",
      "\n",
      "1.9835235375094546\n",
      "0.01647646249054535\n",
      "\n",
      "2.0082484079079745\n",
      "-0.008248407907974542\n"
     ]
    }
   ],
   "source": [
    "# Rienmann Integral\n",
    "\n",
    "import numpy as np\n",
    "\n",
    "start = 0\n",
    "end = np.pi\n",
    "num = 11\n",
    "h = (end - start) / (num - 1)\n",
    "x = np.linspace(start, end, num)\n",
    "function = np.sin(x)\n",
    "\n",
    "I_rienmannL = h * sum(function[:num - 1])\n",
    "err_rienmannL = 2 - I_rienmannL\n",
    "\n",
    "I_rienmannR = h * sum(function[1::])\n",
    "err_rienmannR = 2 - I_rienmannR\n",
    "\n",
    "I_mid = h * sum(np.sin((x[:num - 1] + x[1:]) / 2))\n",
    "err_mid = 2 - I_mid\n",
    "\n",
    "print(f\"{I_rienmannL}\\n{err_rienmannL}\\n\\n{I_rienmannR}\\n{err_rienmannR}\\n\\n{I_mid}\\n{err_mid}\")"
   ]
  }
 ],
 "metadata": {
  "kernelspec": {
   "display_name": "Python 3",
   "language": "python",
   "name": "python3"
  },
  "language_info": {
   "codemirror_mode": {
    "name": "ipython",
    "version": 3
   },
   "file_extension": ".py",
   "mimetype": "text/x-python",
   "name": "python",
   "nbconvert_exporter": "python",
   "pygments_lexer": "ipython3",
   "version": "3.10.9"
  },
  "orig_nbformat": 4
 },
 "nbformat": 4,
 "nbformat_minor": 2
}
