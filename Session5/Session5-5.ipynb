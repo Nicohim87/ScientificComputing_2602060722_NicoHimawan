{
 "cells": [
  {
   "cell_type": "code",
   "execution_count": 68,
   "metadata": {},
   "outputs": [
    {
     "name": "stdout",
     "output_type": "stream",
     "text": [
      "Result = 1.9999690028962895\n",
      "Error = 3.0997103710461715e-05\n"
     ]
    }
   ],
   "source": [
    "#CHALLENGE -> Simpson's Rule\n",
    "\n",
    "import numpy as np\n",
    "\n",
    "start = 0\n",
    "end = np.pi\n",
    "num = 400\n",
    "delta = (start + end) / (num - 1)\n",
    "\n",
    "function = np.sin(np.linspace(start, end, num))\n",
    "\n",
    "Result = 0\n",
    "init = 0\n",
    "\n",
    "if num % 2 == 1:\n",
    "    Result += 3 * delta / 8 * (function[0] + 3 * function[1] + 3 * function[2] + function[3])\n",
    "    init = 3\n",
    "\n",
    "for i in range(init, num-2, 2):\n",
    "    Result += delta / 3 * (function[i] + 4 * function[i+1] + function[i+2])\n",
    "\n",
    "Error = 2 - Result\n",
    "\n",
    "print(f\"Result = {Result}\\nError = {Error}\")"
   ]
  }
 ],
 "metadata": {
  "kernelspec": {
   "display_name": "Python 3",
   "language": "python",
   "name": "python3"
  },
  "language_info": {
   "codemirror_mode": {
    "name": "ipython",
    "version": 3
   },
   "file_extension": ".py",
   "mimetype": "text/x-python",
   "name": "python",
   "nbconvert_exporter": "python",
   "pygments_lexer": "ipython3",
   "version": "3.10.9"
  },
  "orig_nbformat": 4
 },
 "nbformat": 4,
 "nbformat_minor": 2
}
