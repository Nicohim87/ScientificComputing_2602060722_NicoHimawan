{
 "cells": [
  {
   "cell_type": "code",
   "execution_count": 18,
   "metadata": {},
   "outputs": [],
   "source": [
    "import numpy as np\n",
    "# Root of Equation - Bisection Method\n",
    "\n",
    "def my_bisection(function, left, right, tolerance):\n",
    "    #f -> function\n",
    "    #a -> left\n",
    "    #b -> right\n",
    "    #tol -> tolerance\n",
    "    \n",
    "    if np.sign(function(left)) == np.sign(function(right)):\n",
    "        raise Exception(\"The scalars left and not right do not bound a root\")\n",
    "    \n",
    "    mid = (left+right)/2\n",
    "    \n",
    "    if np.abs(function(mid)) < tolerance:\n",
    "        return mid\n",
    "    \n",
    "    elif np.sign(function(left)) == np.sign(function(mid)):\n",
    "        return my_bisection(function, mid, right, tolerance)\n",
    "        \n",
    "    elif np.sign(function(right)) == np.sign(function(mid)):\n",
    "        return my_bisection(function, left, mid, tolerance)"
   ]
  },
  {
   "cell_type": "code",
   "execution_count": 28,
   "metadata": {},
   "outputs": [
    {
     "name": "stdout",
     "output_type": "stream",
     "text": [
      "Root\n",
      "\n",
      "tolerance 0.1\n",
      "    root = 1.4375\n",
      "    f(root) = 0.06640625\n",
      "\n",
      "tolerance 0.01\n",
      "    root = 1.4140625\n",
      "    f(root) = -0.00042724609375\n",
      "\n",
      "tolerance 0.0001\n",
      "    root = 1.4141845703125\n",
      "    f(root) = -8.200109004974365e-05\n",
      "\n"
     ]
    }
   ],
   "source": [
    "function = lambda x: x**2-2\n",
    "\n",
    "np.array([0.1, 0.01, 0.0001])\n",
    "root1 = my_bisection(function, 0, 2, 0.1)\n",
    "root01 = my_bisection(function, 0, 2, 0.01)\n",
    "root0001 = my_bisection(function, 0, 2, 0.0001)\n",
    "\n",
    "print(\"Root\\n\")\n",
    "print(f\"tolerance 0.1\\n    root = {root1}\\n    f(root) = {function(root1)}\\n\")\n",
    "print(f\"tolerance 0.01\\n    root = {root01}\\n    f(root) = {function(root01)}\\n\")\n",
    "print(f\"tolerance 0.0001\\n    root = {root0001}\\n    f(root) = {function(root0001)}\\n\")"
   ]
  },
  {
   "cell_type": "code",
   "execution_count": 29,
   "metadata": {},
   "outputs": [
    {
     "name": "stdout",
     "output_type": "stream",
     "text": [
      "Root\n",
      "\n",
      "tolerance 0.1\n",
      "    root = 1.4375\n",
      "    f(root) = 0.06640625\n",
      "\n",
      "tolerance 0.01\n",
      "    root = 1.4140625\n",
      "    f(root) = -0.00042724609375\n",
      "\n",
      "tolerance 0.001\n",
      "    root = 1.4140625\n",
      "    f(root) = -0.00042724609375\n",
      "\n",
      "tolerance 0.0001\n",
      "    root = 1.4141845703125\n",
      "    f(root) = -8.200109004974365e-05\n",
      "\n"
     ]
    }
   ],
   "source": [
    "function = lambda x: x**2-2\n",
    "\n",
    "tolerance = np.array([0.1, 0.01, 0.001, 0.0001])\n",
    "\n",
    "root = np.array([])\n",
    "for i in range (len(tolerance)):\n",
    "    root = np.append(root, my_bisection(function, 0, 2, tolerance[i]))\n",
    "    \n",
    "print(\"Root\\n\")\n",
    "\n",
    "for i in range(len(tolerance)):\n",
    "    print(f\"tolerance {tolerance[i]}\\n    root = {root[i]}\\n    f(root) = {function(root[i])}\\n\")      "
   ]
  }
 ],
 "metadata": {
  "kernelspec": {
   "display_name": "Python 3",
   "language": "python",
   "name": "python3"
  },
  "language_info": {
   "codemirror_mode": {
    "name": "ipython",
    "version": 3
   },
   "file_extension": ".py",
   "mimetype": "text/x-python",
   "name": "python",
   "nbconvert_exporter": "python",
   "pygments_lexer": "ipython3",
   "version": "3.10.9"
  },
  "orig_nbformat": 4
 },
 "nbformat": 4,
 "nbformat_minor": 2
}
