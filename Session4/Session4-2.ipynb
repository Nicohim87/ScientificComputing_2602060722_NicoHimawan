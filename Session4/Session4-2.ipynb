{
 "cells": [
  {
   "cell_type": "code",
   "execution_count": 1,
   "metadata": {},
   "outputs": [
    {
     "name": "stdout",
     "output_type": "stream",
     "text": [
      "newton rapshon =  1.4142857142857144\n",
      "sqrt(2) =  1.4142135623730951\n"
     ]
    }
   ],
   "source": [
    "import numpy as np\n",
    "\n",
    "funct = lambda x: x**2-2\n",
    "\n",
    "funct_prime = lambda x: 2*x\n",
    "\n",
    "newt_rapshon = 1.4-funct(1.4) /funct_prime(1.4)\n",
    "\n",
    "print(\"newton rapshon = \", newt_rapshon)\n",
    "print(\"sqrt(2) = \", np.sqrt(2))"
   ]
  },
  {
   "cell_type": "code",
   "execution_count": 9,
   "metadata": {},
   "outputs": [],
   "source": [
    "def my_newton(funct, df, x0, tolerance):\n",
    "    if abs(funct(x0)) < tolerance:\n",
    "        return x0\n",
    "    else:\n",
    "        return my_newton(funct, df, x0-funct(x0)/df(x0), tolerance)"
   ]
  },
  {
   "cell_type": "code",
   "execution_count": 12,
   "metadata": {},
   "outputs": [
    {
     "name": "stdout",
     "output_type": "stream",
     "text": [
      "estimate =  1.4142135623746899\n",
      "sqrt(2) =  1.4142135623730951\n"
     ]
    }
   ],
   "source": [
    "estimate = my_newton(funct, funct_prime, 1.5, 1e-6)\n",
    "print(\"estimate = \", estimate)\n",
    "print(\"sqrt(2) = \", np.sqrt(2))"
   ]
  }
 ],
 "metadata": {
  "kernelspec": {
   "display_name": "Python 3",
   "language": "python",
   "name": "python3"
  },
  "language_info": {
   "codemirror_mode": {
    "name": "ipython",
    "version": 3
   },
   "file_extension": ".py",
   "mimetype": "text/x-python",
   "name": "python",
   "nbconvert_exporter": "python",
   "pygments_lexer": "ipython3",
   "version": "3.10.9"
  },
  "orig_nbformat": 4
 },
 "nbformat": 4,
 "nbformat_minor": 2
}
