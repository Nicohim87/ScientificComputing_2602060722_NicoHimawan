{
 "cells": [
  {
   "cell_type": "code",
   "execution_count": 53,
   "metadata": {},
   "outputs": [
    {
     "name": "stdout",
     "output_type": "stream",
     "text": [
      "Matrix is diagonally dominant\n"
     ]
    }
   ],
   "source": [
    "import numpy as np\n",
    "a = [[8,3,3], [-2,-8,5], [3,5,10]]\n",
    "\n",
    "diag = np.diag(np.abs(a))\n",
    "\n",
    "off_diag = np.sum(np.abs(a), axis = 1) - diag\n",
    "if np.all(diag>off_diag):\n",
    "    print('Matrix is diagonally dominant')\n",
    "else:\n",
    "    print('NOT diagonally dominant')"
   ]
  },
  {
   "cell_type": "code",
   "execution_count": 54,
   "metadata": {},
   "outputs": [],
   "source": [
    "x1 = 0\n",
    "x2 = 0\n",
    "x3 = 0\n",
    "epsilon = 0.01\n",
    "converged = False\n",
    "\n",
    "x_old = np.array([x1, x1, x3])"
   ]
  },
  {
   "cell_type": "code",
   "execution_count": 55,
   "metadata": {},
   "outputs": [
    {
     "name": "stdout",
     "output_type": "stream",
     "text": [
      "Iteration results\n",
      "k,     x1,     x2,     x3\n",
      "1, 1.7500, -1.0625, -0.7937\n",
      "2, 2.0492, -1.6334, -0.5981\n",
      "3, 2.2878, -1.5707, -0.7010\n",
      "4, 2.2514, -1.6260, -0.6624\n",
      "5, 2.2769, -1.6083, -0.6789\n",
      "6, 2.2682, -1.6164, -0.6723\n",
      "7, 2.2721, -1.6132, -0.6750\n",
      "Converged!\n"
     ]
    }
   ],
   "source": [
    "print(\"Iteration results\")\n",
    "print(\"k,     x1,     x2,     x3\")\n",
    "for k in range(1,50):\n",
    "    x1 = (14-3*x2+x3)/8\n",
    "    x2 = (5+2*x1-5*x3)/-8\n",
    "    x3 = (-8-3*x1-5*x2)/10\n",
    "    x = np.array([x1, x2, x3])\n",
    "    dx = np.sqrt(np.dot(x-x_old, x-x_old))\n",
    "    # dx = np.abs(x-x_old, x-x_old)\n",
    "    \n",
    "    print(\"%d, %.4f, %.4f, %.4f\" %(k, x1, x2, x3))\n",
    "    if dx < epsilon:\n",
    "        converged = True\n",
    "        print(\"Converged!\")\n",
    "        break\n",
    "    \n",
    "    x_old = x\n",
    "    \n",
    "if not converged:\n",
    "    print(\"Not converge, increase the # of iterations\")"
   ]
  }
 ],
 "metadata": {
  "kernelspec": {
   "display_name": "Python 3",
   "language": "python",
   "name": "python3"
  },
  "language_info": {
   "codemirror_mode": {
    "name": "ipython",
    "version": 3
   },
   "file_extension": ".py",
   "mimetype": "text/x-python",
   "name": "python",
   "nbconvert_exporter": "python",
   "pygments_lexer": "ipython3",
   "version": "3.10.9"
  },
  "orig_nbformat": 4
 },
 "nbformat": 4,
 "nbformat_minor": 2
}
